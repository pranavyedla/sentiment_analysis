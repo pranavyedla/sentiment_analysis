!pip install emoji
import nltk
nltk.download('punkt')
nltk.download('stopwords')
nltk.download('punkt_tab')
import numpy as np
import pandas as pd
import string
import emoji
from nltk.corpus import stopwords
from nltk.stem import PorterStemmer
from nltk.tokenize import word_tokenize
from sklearn.feature_extraction.text import TfidfVectorizer
from sklearn.model_selection import train_test_split
from sklearn.ensemble import RandomForestClassifier
from sklearn.metrics import accuracy_score
from sklearn.preprocessing import LabelEncoder
df = pd.read_csv("twitter_training.csv")
df = df.iloc[:, 2:]
col_list = list(df.columns)
col_list[0], col_list[-1] = col_list[-1], col_list[0]
df = df[col_list]
df.rename(columns={df.columns[0]: 'Text', df.columns[1]: 'Sentiment'}, inplace=True)
df.dropna(inplace=True)
df['Text'] = df['Text'].str.lower()
def remove_punc(text):
    return text.translate(str.maketrans('', '', string.punctuation))
df['Text'] = df['Text'].apply(remove_punc)
stop_words = set(stopwords.words('english'))
df['Text'] = df['Text'].apply(lambda x: ' '.join([word for word in x.split() if word not in stop_words]))
def emoji_to_text(text):
    return emoji.demojize(text)
df['Text'] = df['Text'].apply(emoji_to_text)
df = df[df['Sentiment'] != 'Irrelevant']
df = df[df['Text'].str.strip().ne('')]
ps = PorterStemmer()
def stem_text(text):
    tokens = word_tokenize(str(text))
    stemmed_tokens = [ps.stem(token) for token in tokens]
    return ' '.join(stemmed_tokens)
df['Text'] = df['Text'].apply(stem_text)
print("Label distribution:")
print(df['Sentiment'].value_counts())
vectorizer = TfidfVectorizer(stop_words='english')
X = vectorizer.fit_transform(df['Text'])
label_encoder = LabelEncoder()
y_encoded = label_encoder.fit_transform(df['Sentiment'])
X_train, X_test, y_train, y_test = train_test_split(X, y_encoded, test_size=0.20, stratify=y_encoded, random_state=42)
model = RandomForestClassifier(random_state=42)
model.fit(X_train, y_train)
train_pred = model.predict(X_train)
ac1 = accuracy_score(train_pred, y_train)
print(f'Training Accuracy: {ac1:.2%}')
test_pred = model.predict(X_test)
ac2 = accuracy_score(test_pred, y_test)
print(f'Test Accuracy: {ac2:.2%}')
txts = ["wow thats great news", "No dont like it", "new skin got crazy check out"]
ty = vectorizer.transform(txts)
ss = model.predict(ty)
decoded_preds = label_encoder.inverse_transform(ss)
print(f'Sentiment predictions: {decoded_preds}')